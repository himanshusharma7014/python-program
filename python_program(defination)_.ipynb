{
  "nbformat": 4,
  "nbformat_minor": 0,
  "metadata": {
    "colab": {
      "provenance": []
    },
    "kernelspec": {
      "name": "python3",
      "display_name": "Python 3"
    },
    "language_info": {
      "name": "python"
    }
  },
  "cells": [
    {
      "cell_type": "markdown",
      "source": [
        "1)Define python"
      ],
      "metadata": {
        "id": "YMre19hunoUo"
      }
    },
    {
      "cell_type": "markdown",
      "source": [
        "Python is a high-level, general-purpose programming language. This means it's designed to be easy for humans to read and write, and it can be used for a wide variety of tasks."
      ],
      "metadata": {
        "id": "YH7UXOuQnnTu"
      }
    },
    {
      "cell_type": "markdown",
      "source": [
        "(*)Here are some of the key features of Python"
      ],
      "metadata": {
        "id": "2wgR6IURn4S7"
      }
    },
    {
      "cell_type": "markdown",
      "source": [
        "1)Easy to read: Python uses clear and concise syntax, with a focus on readability. This makes it a good choice for beginners"
      ],
      "metadata": {
        "id": "Yz2d-h8YoGkU"
      }
    },
    {
      "cell_type": "markdown",
      "source": [
        "2)Large community: Python has a large and active community of developers, which means there are many resources available to help you learn and use the language.\n",
        "\n",
        "\n"
      ],
      "metadata": {
        "id": "yPJfaZfVoX6l"
      }
    },
    {
      "cell_type": "markdown",
      "source": [
        "3)Readability: Python code is known for its clear and concise syntax, which looks more like natural language than some other programming languages. This emphasis on readability makes it easier to understand and write Python code, especially for those new to programming."
      ],
      "metadata": {
        "id": "21qLJJoRogqa"
      }
    },
    {
      "cell_type": "markdown",
      "source": [
        "4)Versatility: Python can be used for a wide range of applications, including:\n",
        "\n",
        "Web development: Python is a popular choice for back-end web development, thanks to frameworks like Django and Flask.\n",
        "Data analysis: Python has a robust set of libraries for data analysis and manipulation, including NumPy and Pandas.\n",
        "Scientific computing: Python is widely used in scientific computing due to its ease of use and powerful libraries like SciPy and Matplotlib.\n",
        "Machine learning: Python is a leader in machine learning, with frameworks like TensorFlow and PyTorch making it a go-to language for this field.\n",
        "Automation: Python excels at automating tasks, saving you time and effort on repetitive processes."
      ],
      "metadata": {
        "id": "Be3kqMKEoub1"
      }
    },
    {
      "cell_type": "markdown",
      "source": [
        "5)Large and supportive community: Python boasts a vast and active community of developers. This means you'll find a wealth of online resources, tutorials, and forums to help you learn and troubleshoot any challenges you encounter."
      ],
      "metadata": {
        "id": "TvGTXy4Nq00X"
      }
    },
    {
      "cell_type": "markdown",
      "source": [
        "(*)The classic \"Hello, world!\" program is a great way to get started with any programming language, and Python is no exception. Here's the code for it:"
      ],
      "metadata": {
        "id": "uoZf5dncrL-N"
      }
    },
    {
      "cell_type": "code",
      "source": [
        "print(\"hello world!\")"
      ],
      "metadata": {
        "colab": {
          "base_uri": "https://localhost:8080/"
        },
        "id": "-dp8leErrYjR",
        "outputId": "41113fb5-f667-4514-cee2-44f78b823173"
      },
      "execution_count": 1,
      "outputs": [
        {
          "output_type": "stream",
          "name": "stdout",
          "text": [
            "hello world!\n"
          ]
        }
      ]
    },
    {
      "cell_type": "markdown",
      "source": [
        "This code will print the message \"Hello, world!\" to the console."
      ],
      "metadata": {
        "id": "zwtMPKbKrwUJ"
      }
    },
    {
      "cell_type": "markdown",
      "source": [
        "2) define print() in python\n",
        "\n",
        "\n"
      ],
      "metadata": {
        "id": "CvrNm7Cjr3dT"
      }
    },
    {
      "cell_type": "markdown",
      "source": [
        "Here's a breakdown of the print() function in Python:\n",
        "\n",
        "Purpose:\n",
        "\n",
        "Outputs data to the console (usually your computer screen).\n",
        "What it can print:\n",
        "\n",
        "Text (strings enclosed in quotes)\n",
        "\n",
        "Numbers (integers, floats)\n",
        "\n",
        "Other data types (lists, dictionaries, etc. - converted to string form)\n"
      ],
      "metadata": {
        "id": "HpQ-HLjhsgs3"
      }
    }
  ]
}