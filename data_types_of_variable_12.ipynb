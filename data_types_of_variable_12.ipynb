{
  "nbformat": 4,
  "nbformat_minor": 0,
  "metadata": {
    "colab": {
      "provenance": []
    },
    "kernelspec": {
      "name": "python3",
      "display_name": "Python 3"
    },
    "language_info": {
      "name": "python"
    }
  },
  "cells": [
    {
      "cell_type": "markdown",
      "source": [
        "what is variable ?"
      ],
      "metadata": {
        "id": "9LTWnCEj2OFJ"
      }
    },
    {
      "cell_type": "markdown",
      "source": [
        "In Python, a variable is a named storage location for data. You can think of it like a labeled box that holds information your program can use."
      ],
      "metadata": {
        "id": "mYQyNnk32TOm"
      }
    },
    {
      "cell_type": "code",
      "execution_count": null,
      "metadata": {
        "colab": {
          "base_uri": "https://localhost:8080/",
          "height": 35
        },
        "id": "-rP_xkIo06Oj",
        "outputId": "c7fbbfd9-b85d-4264-ba1d-1efbf8c27643"
      },
      "outputs": [
        {
          "output_type": "execute_result",
          "data": {
            "text/plain": [
              "'hello user!'"
            ],
            "application/vnd.google.colaboratory.intrinsic+json": {
              "type": "string"
            }
          },
          "metadata": {},
          "execution_count": 1
        }
      ],
      "source": [
        "var_1=(\"hello user!\")\n",
        "var_1"
      ]
    },
    {
      "cell_type": "code",
      "source": [
        "var=(\"himanshu sharma\",123,\"hello\",1.2)\n",
        "var"
      ],
      "metadata": {
        "colab": {
          "base_uri": "https://localhost:8080/"
        },
        "id": "LDsKZwzJ3VcH",
        "outputId": "1e2b1aea-790b-41f5-f8bb-aad2cddfc540"
      },
      "execution_count": null,
      "outputs": [
        {
          "output_type": "execute_result",
          "data": {
            "text/plain": [
              "('himanshu sharma', 123, 'hello', 1.2)"
            ]
          },
          "metadata": {},
          "execution_count": 2
        }
      ]
    },
    {
      "cell_type": "code",
      "source": [
        "name=\"himanshu\"\n",
        "name"
      ],
      "metadata": {
        "colab": {
          "base_uri": "https://localhost:8080/",
          "height": 35
        },
        "id": "mzAWcTXW3mF9",
        "outputId": "65e4d736-31b2-41b4-ae38-31e8cef00306"
      },
      "execution_count": null,
      "outputs": [
        {
          "output_type": "execute_result",
          "data": {
            "text/plain": [
              "'himanshu'"
            ],
            "application/vnd.google.colaboratory.intrinsic+json": {
              "type": "string"
            }
          },
          "metadata": {},
          "execution_count": 3
        }
      ]
    },
    {
      "cell_type": "code",
      "source": [
        "var1= (\"hello\")\n",
        "var2= (\"himanshu\")\n",
        "var3= (\"sharma\")\n",
        "var4= (\"rajasthan\")\n",
        "var5= (\"jaipur\")\n",
        "print(var1 + var2 + var3 +var4 + var5)"
      ],
      "metadata": {
        "colab": {
          "base_uri": "https://localhost:8080/"
        },
        "id": "5RaPgQ6754Pz",
        "outputId": "a63a8846-99ff-4c4d-9fe2-eefa71d17c13"
      },
      "execution_count": null,
      "outputs": [
        {
          "output_type": "stream",
          "name": "stdout",
          "text": [
            "hellohimanshusharmarajasthanjaipur\n"
          ]
        }
      ]
    },
    {
      "cell_type": "markdown",
      "source": [
        "data Types of variable ."
      ],
      "metadata": {
        "id": "pwrW9hY17Wtb"
      }
    },
    {
      "cell_type": "markdown",
      "source": [
        "1) string=In Python, a string is a sequence of characters that you use to represent text data.  You can create strings using single quotes ('), double quotes (\"), or triple quotes (''' or \"\"\").\n",
        "\n",
        "\n",
        "2) float=A float in Python is a data type that represents numbers with decimal points.  Floats are useful for storing values that aren't whole numbers, such as scientific measurements or financial calculations\n",
        "\n",
        "\n",
        "3)boolean=In Python, a boolean is a data type that represents one of two truth values: True or False.  Booleans are fundamental for making decisions in your code. They are often used in conditional statements like if statements.\n",
        "\n",
        "\n",
        "4)integer=In Python, an integer (int) is a whole number, positive, negative, or zero.  Integers do not have a decimal point."
      ],
      "metadata": {
        "id": "LvOna2NT7eeQ"
      }
    },
    {
      "cell_type": "markdown",
      "source": [
        "here we have one function type () it is used for check the type of variable\n",
        "like: int,float,boolean,string."
      ],
      "metadata": {
        "id": "tq7tT7_DmsNc"
      }
    },
    {
      "cell_type": "markdown",
      "source": [
        "example of string."
      ],
      "metadata": {
        "id": "lAVnvJ2UiTFX"
      }
    },
    {
      "cell_type": "code",
      "source": [
        "var1=(\"himanshu\")\n",
        "print(var1)\n",
        "type(var1)"
      ],
      "metadata": {
        "id": "jE7HOIGpiZeV",
        "colab": {
          "base_uri": "https://localhost:8080/"
        },
        "outputId": "7105f75d-f100-410b-d03d-20e40cd3d3fd"
      },
      "execution_count": 10,
      "outputs": [
        {
          "output_type": "stream",
          "name": "stdout",
          "text": [
            "himanshu\n"
          ]
        },
        {
          "output_type": "execute_result",
          "data": {
            "text/plain": [
              "str"
            ]
          },
          "metadata": {},
          "execution_count": 10
        }
      ]
    },
    {
      "cell_type": "markdown",
      "source": [
        "example of integer."
      ],
      "metadata": {
        "id": "kYBHBWYolRUG"
      }
    },
    {
      "cell_type": "code",
      "source": [
        "var1= 123\n",
        "print(var1)\n",
        "type(var1)"
      ],
      "metadata": {
        "colab": {
          "base_uri": "https://localhost:8080/"
        },
        "id": "ggd5gUUIlQUT",
        "outputId": "790bb6f5-e183-4d77-b155-1a22786da165"
      },
      "execution_count": 9,
      "outputs": [
        {
          "output_type": "stream",
          "name": "stdout",
          "text": [
            "123\n"
          ]
        },
        {
          "output_type": "execute_result",
          "data": {
            "text/plain": [
              "int"
            ]
          },
          "metadata": {},
          "execution_count": 9
        }
      ]
    },
    {
      "cell_type": "markdown",
      "source": [
        "example of float."
      ],
      "metadata": {
        "id": "b8GeMPV0lmzR"
      }
    },
    {
      "cell_type": "code",
      "source": [
        "var1= 12.3\n",
        "print(var1)\n",
        "type(var1)"
      ],
      "metadata": {
        "colab": {
          "base_uri": "https://localhost:8080/"
        },
        "id": "78z24fUxluBD",
        "outputId": "c2122df3-9e11-4fcc-ed90-319ecdcf46cb"
      },
      "execution_count": 8,
      "outputs": [
        {
          "output_type": "stream",
          "name": "stdout",
          "text": [
            "12.3\n"
          ]
        },
        {
          "output_type": "execute_result",
          "data": {
            "text/plain": [
              "float"
            ]
          },
          "metadata": {},
          "execution_count": 8
        }
      ]
    },
    {
      "cell_type": "markdown",
      "source": [
        "example of boolean."
      ],
      "metadata": {
        "id": "9iSRZUlul-D-"
      }
    },
    {
      "cell_type": "code",
      "source": [
        "var1=True\n",
        "print(var1)\n",
        "type(var1)"
      ],
      "metadata": {
        "colab": {
          "base_uri": "https://localhost:8080/"
        },
        "id": "hemfXU_nmECF",
        "outputId": "584afb08-1a50-4be6-f7df-0990c2a9031f"
      },
      "execution_count": 7,
      "outputs": [
        {
          "output_type": "stream",
          "name": "stdout",
          "text": [
            "True\n"
          ]
        },
        {
          "output_type": "execute_result",
          "data": {
            "text/plain": [
              "bool"
            ]
          },
          "metadata": {},
          "execution_count": 7
        }
      ]
    }
  ]
}