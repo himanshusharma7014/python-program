{
  "nbformat": 4,
  "nbformat_minor": 0,
  "metadata": {
    "colab": {
      "provenance": []
    },
    "kernelspec": {
      "name": "python3",
      "display_name": "Python 3"
    },
    "language_info": {
      "name": "python"
    }
  },
  "cells": [
    {
      "cell_type": "markdown",
      "source": [
        "types of data structures ?\n",
        "\n",
        "1)List[]\n",
        "\n",
        "2)Tuple()\n",
        "\n",
        "3)dict{}\n",
        "\n",
        "4)set{}"
      ],
      "metadata": {
        "id": "5sPVA0BNyznD"
      }
    },
    {
      "cell_type": "markdown",
      "source": [
        "(*) List[]= Lists are ordered collections of items, like a shopping list. You can change the items in a list after you create it.  They are enclosed in square brackets [ ]\n"
      ],
      "metadata": {
        "id": "YAnRh2ICzMCg"
      }
    },
    {
      "cell_type": "markdown",
      "source": [
        "example of list[]."
      ],
      "metadata": {
        "id": "sI5Vn0Ux0aiH"
      }
    },
    {
      "cell_type": "code",
      "source": [
        "var1=[\"soap\",\"shampoo\",\"comb\",\"oil\",\"soap\"]\n",
        "print(var1)\n",
        "type(var1)\n"
      ],
      "metadata": {
        "colab": {
          "base_uri": "https://localhost:8080/"
        },
        "id": "_mP68Rkm0Vlf",
        "outputId": "d39fe371-d849-4fea-88a1-9dd2a62ec91f"
      },
      "execution_count": 33,
      "outputs": [
        {
          "output_type": "stream",
          "name": "stdout",
          "text": [
            "['soap', 'shampoo', 'comb', 'oil', 'soap']\n"
          ]
        },
        {
          "output_type": "execute_result",
          "data": {
            "text/plain": [
              "list"
            ]
          },
          "metadata": {},
          "execution_count": 33
        }
      ]
    },
    {
      "cell_type": "code",
      "source": [
        "var1[2]=\"serum\"\n",
        "print(var1)"
      ],
      "metadata": {
        "colab": {
          "base_uri": "https://localhost:8080/"
        },
        "id": "cPh9NPHc7YDR",
        "outputId": "9cb69441-fc97-47be-b356-4790623f2253"
      },
      "execution_count": 36,
      "outputs": [
        {
          "output_type": "stream",
          "name": "stdout",
          "text": [
            "['soap', 'shampoo', 'serum', 'oil', 'soap']\n"
          ]
        }
      ]
    },
    {
      "cell_type": "markdown",
      "source": [
        "(*)Tuple()=a tuple is a collection of items similar to a list.  However, unlike lists, tuples are immutable, which means you cannot change their elements after they are created.  Think of a tuple like a grocery receipt that shows what you bought - you can't go back and change the items on the receipt."
      ],
      "metadata": {
        "id": "TLzEMcZA1cZz"
      }
    },
    {
      "cell_type": "markdown",
      "source": [
        "example of tuple()."
      ],
      "metadata": {
        "id": "mJPcA23v1zVx"
      }
    },
    {
      "cell_type": "code",
      "source": [
        "var2=(\"apple\",\"orange\",\"banana\",\"tamato\",\"apple\")\n",
        "print(var2)\n",
        "type(var2)\n"
      ],
      "metadata": {
        "colab": {
          "base_uri": "https://localhost:8080/"
        },
        "id": "FphWgm0W14QI",
        "outputId": "b0e87f38-0a64-45a8-f89f-f13085f68ddb"
      },
      "execution_count": 32,
      "outputs": [
        {
          "output_type": "stream",
          "name": "stdout",
          "text": [
            "('apple', 'orange', 'banana', 'tamato', 'apple')\n"
          ]
        },
        {
          "output_type": "execute_result",
          "data": {
            "text/plain": [
              "tuple"
            ]
          },
          "metadata": {},
          "execution_count": 32
        }
      ]
    },
    {
      "cell_type": "markdown",
      "source": [
        "(*)set{}= a set is like a unique collection of items. It's unordered, which means the order you add things doesn't matter, and it won't allow duplicates. Think of it like a bag of colorful marbles - the color of each marble matters, but not the order you put them in the bag, and you wouldn't want two marbles of the same color"
      ],
      "metadata": {
        "id": "mAtDjfgR2oHe"
      }
    },
    {
      "cell_type": "markdown",
      "source": [
        "example of set{}"
      ],
      "metadata": {
        "id": "LdoH84ok4YSs"
      }
    },
    {
      "cell_type": "code",
      "source": [
        "var3={\"white\",\"black\",\"blue\",\"green\",\"white\"}\n",
        "print(var3)\n",
        "type(var3)"
      ],
      "metadata": {
        "colab": {
          "base_uri": "https://localhost:8080/"
        },
        "id": "4SSjVV-O3dsO",
        "outputId": "b0c5db4e-86e8-4d4d-945d-fd7489768599"
      },
      "execution_count": 31,
      "outputs": [
        {
          "output_type": "stream",
          "name": "stdout",
          "text": [
            "{'blue', 'black', 'white', 'green'}\n"
          ]
        },
        {
          "output_type": "execute_result",
          "data": {
            "text/plain": [
              "set"
            ]
          },
          "metadata": {},
          "execution_count": 31
        }
      ]
    },
    {
      "cell_type": "markdown",
      "source": [
        "(*)Dict{}= a dictionary is a collection of items that are stored like key-value pairs.  Imagine it like a phone book where names are keys and phone numbers are values. You can use any kind of data for both the keys and the values"
      ],
      "metadata": {
        "id": "rKyOpiOd4H9v"
      }
    },
    {
      "cell_type": "markdown",
      "source": [
        "example of dict{}"
      ],
      "metadata": {
        "id": "m7-kc5hp4brq"
      }
    },
    {
      "cell_type": "code",
      "source": [
        "var4={\"name\":\"himanshu\",\"id\":123,\"pass\":\"hello1\"}\n",
        "print(var4)\n",
        "type(var4)"
      ],
      "metadata": {
        "colab": {
          "base_uri": "https://localhost:8080/"
        },
        "id": "279kg0Nl4fEm",
        "outputId": "b075104e-47a0-487f-adcd-cca98c3eb921"
      },
      "execution_count": 30,
      "outputs": [
        {
          "output_type": "stream",
          "name": "stdout",
          "text": [
            "{'name': 'himanshu', 'id': 123, 'pass': 'hello1'}\n"
          ]
        },
        {
          "output_type": "execute_result",
          "data": {
            "text/plain": [
              "dict"
            ]
          },
          "metadata": {},
          "execution_count": 30
        }
      ]
    },
    {
      "cell_type": "code",
      "source": [
        "var4[\"name\"]=\"deepanshu\"\n",
        "print(var4)"
      ],
      "metadata": {
        "colab": {
          "base_uri": "https://localhost:8080/"
        },
        "id": "_QKl5fcK5L8C",
        "outputId": "e992e85d-8970-48d4-a26a-65045c003707"
      },
      "execution_count": 29,
      "outputs": [
        {
          "output_type": "stream",
          "name": "stdout",
          "text": [
            "{'name': 'deepanshu', 'id': 123, 'pass': 'hello1'}\n"
          ]
        }
      ]
    }
  ]
}